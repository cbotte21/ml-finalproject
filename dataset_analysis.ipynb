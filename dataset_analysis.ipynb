{
 "cells": [
  {
   "cell_type": "markdown",
   "metadata": {},
   "source": [
    "# Basic analysis of our dataset"
   ]
  },
  {
   "cell_type": "code",
   "execution_count": 23,
   "metadata": {},
   "outputs": [],
   "source": [
    "import pandas as pd\n",
    "import numpy as np\n",
    "from collections import Counter\n",
    "\n",
    "datasetFolder = 'dataset/'\n",
    "\n",
    "# Load the CSV files\n",
    "movies = pd.read_csv(datasetFolder+'movies.csv')\n",
    "ratings = pd.read_csv(datasetFolder+'ratings.csv')\n",
    "tags = pd.read_csv(datasetFolder+'tags.csv')"
   ]
  },
  {
   "cell_type": "markdown",
   "metadata": {},
   "source": [
    "# ratings.csv\n",
    "\n",
    "Columns: ['userId', 'movieId', 'rating', 'timestamp']\n",
    "\n",
    "userId:\n",
    "- Number of unique users: 200948\n",
    "\n",
    "rating:\n",
    "- Number of ratings: 32000204 (32M)\n",
    "- Average ratings per user: 159.25\n",
    "- Average number of ratings per movie: 379.01\n",
    "- Average rating: 3.54\n",
    "\n",
    "movieId:\n",
    "- Number of unique movies: 84432 (Not every movie mapped to movies.csv)"
   ]
  },
  {
   "cell_type": "code",
   "execution_count": 27,
   "metadata": {},
   "outputs": [
    {
     "name": "stdout",
     "output_type": "stream",
     "text": [
      "200948\n",
      "Number of ratings: 32000204\n",
      "Average number of ratings per user: 159.24619304496684\n",
      "Average number of ratings per movie: 379.0056376729202\n",
      "Average rating: 3.5403956487277393\n",
      "84432\n"
     ]
    }
   ],
   "source": [
    "from collections import Counter\n",
    "\n",
    "# Number of unique users\n",
    "print(len(ratings['userId'].unique()))\n",
    "\n",
    "# Number of ratings\n",
    "print(\"Number of ratings:\", ratings.shape[0])\n",
    "\n",
    "# Average ratings per user\n",
    "avgRatingsPerUser = Counter()\n",
    "for user in ratings['userId']:\n",
    "    avgRatingsPerUser[user] += 1\n",
    "print(\"Average number of ratings per user:\", np.mean(list(avgRatingsPerUser.values())))\n",
    "\n",
    "# Average number of ratings per movie\n",
    "avgRatingsPerMovie = Counter()\n",
    "for movie in ratings['movieId']:\n",
    "    avgRatingsPerMovie[movie] += 1\n",
    "print(\"Average number of ratings per movie:\", np.mean(list(avgRatingsPerMovie.values())))\n",
    "\n",
    "# Average rating\n",
    "print(\"Average rating:\", np.mean(ratings['rating']))\n",
    "\n",
    "# Unique movies\n",
    "print(\"Unique movies:\", len(ratings['movieId'].unique()))"
   ]
  },
  {
   "cell_type": "markdown",
   "metadata": {},
   "source": [
    "# movies.csv\n",
    "\n",
    "Columns: ['movieId', 'title', 'genres']\n",
    "\n",
    "movieId:\n",
    "- Unique movies: 87585 (Not every movie used)\n",
    "\n",
    "genres:\n",
    "- Unique combinations of genres: 1798 (Movies can have multiple genres)\n",
    "- Unique genres: 20\n",
    "- Average genres per movie: 3.97"
   ]
  },
  {
   "cell_type": "code",
   "execution_count": 25,
   "metadata": {},
   "outputs": [
    {
     "name": "stdout",
     "output_type": "stream",
     "text": [
      "Unique movie count: 87585\n",
      "Number of unique genre combinations: 1798\n",
      "Average genre count per movie: 3.9688542825361512\n",
      "Number of unique genres 20\n"
     ]
    }
   ],
   "source": [
    "# Get unique movie count\n",
    "print(\"Unique movie count:\", movies.shape[0])\n",
    "\n",
    "# Get unique genre combinations\n",
    "uniqueGenreCombinations = movies[\"genres\"].unique()\n",
    "print(\"Number of unique genre combinations:\", len(uniqueGenreCombinations))\n",
    "\n",
    "# Average genres per movie\n",
    "numGenres = [len(genreCombination.split('|')) for genreCombination in uniqueGenreCombinations]\n",
    "print(\"Average genre count per movie:\", np.mean(numGenres))\n",
    "\n",
    "# Get unique genres\n",
    "uniqueGenres = set()\n",
    "for genreCombination in uniqueGenreCombinations:\n",
    "    for genre in genreCombination.split('|'):\n",
    "        uniqueGenres.add(genre)\n",
    "print(\"Number of unique genres\", len(uniqueGenres))"
   ]
  }
 ],
 "metadata": {
  "kernelspec": {
   "display_name": ".venv",
   "language": "python",
   "name": "python3"
  },
  "language_info": {
   "codemirror_mode": {
    "name": "ipython",
    "version": 3
   },
   "file_extension": ".py",
   "mimetype": "text/x-python",
   "name": "python",
   "nbconvert_exporter": "python",
   "pygments_lexer": "ipython3",
   "version": "3.9.6"
  }
 },
 "nbformat": 4,
 "nbformat_minor": 2
}
